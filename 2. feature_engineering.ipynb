{
 "cells": [
  {
   "cell_type": "code",
   "execution_count": null,
   "id": "4337ba22-cd97-47a4-b023-0adf6b552312",
   "metadata": {},
   "outputs": [],
   "source": [
    "import pandas as pd\n",
    "import numpy as np\n",
    "import matplotlib.pyplot as plt\n",
    "import seaborn as sns\n",
    "\n",
    "from sklearn.base import BaseEstimator, TransformerMixin\n",
    "from sklearn.compose import ColumnTransformer\n",
    "from sklearn.pipeline import Pipeline"
   ]
  },
  {
   "cell_type": "code",
   "execution_count": null,
   "id": "c849811e-51be-4487-97ee-a3c192a3725a",
   "metadata": {},
   "outputs": [],
   "source": [
    "def hist_vol(X):\n",
    "    X_resampled = pd.DataFrame()\n",
    "    # X_resampled['prev_month_volatility'] = X['Close'].resample('M').std()\n",
    "    # X_resampled['prev2_month_volatilty'] = X['Close'].resample('M').std().shift(1)\n",
    "    # X_resampled['vol_ratio'] = X_resampled['prev_month_volatility']/X_resampled['prev2_month_volatilty']\n",
    "\n",
    "    X_resampled['vol_ratio'] = X['Close'].resample('M').std()/X['Close'].resample('M').std().shift(1)\n",
    "    return X_resampled\n",
    "\n",
    "def log_range(X):\n",
    "    X_resampled = pd.DataFrame()\n",
    "    X_resampled['log_high_low'] = np.log(X['Close'].resample('M').max()) - np.log(X['Close'].resample('M').min())\n",
    "    return X_resampled"
   ]
  },
  {
   "cell_type": "code",
   "execution_count": null,
   "id": "712bd384-5e99-45ab-8b1c-b7e90cd9b0b6",
   "metadata": {},
   "outputs": [],
   "source": [
    "class log_change(BaseEstimator, TransformerMixin):\n",
    "    def fit(self, X, y=None):\n",
    "        return self\n",
    "    def transform(self, X):\n",
    "        X['log_close_diff'] = np.log(X['Close']) - np.log(X['Close'].shift(1))\n",
    "        return X\n",
    "\n",
    "class pct_change(BaseEstimator, TransformerMixin):\n",
    "    def fit(self, X, y=None):\n",
    "        return self\n",
    "    def transform(self, X):\n",
    "        X['1month_return'] = X['Close']/X['Close'].shift(1) - 1\n",
    "        return X"
   ]
  },
  {
   "cell_type": "markdown",
   "id": "74316a7b-c648-4fd0-967b-145747f863bf",
   "metadata": {},
   "source": [
    "## Workspace"
   ]
  },
  {
   "cell_type": "code",
   "execution_count": null,
   "id": "bba92967-7ae6-4919-9f38-6d98452d5431",
   "metadata": {},
   "outputs": [],
   "source": [
    "def create_feature(daily_df):\n",
    "    daily_df.index = pd.to_datetime(daily_df.index)\n",
    "    monthly_df = daily_df.resample('M').last()\n",
    "\n",
    "    # add new daily features here\n",
    "    daily_features = pd.concat([log_range(daily_df),hist_vol(daily_df)],axis=1)\n",
    "    \n",
    "    monthly_cols = monthly_df.columns\n",
    "\n",
    "    # add new class or functions if needed\n",
    "    baseline_pipeline = Pipeline([\n",
    "            # ('generate_class', generate_class()),\n",
    "            ('log_change', log_change()),\n",
    "            ('pct_change', pct_change())\n",
    "    ])\n",
    "    \n",
    "    baseline_df = baseline_pipeline.fit_transform(monthly_df)\n",
    "    baseline_df = baseline_df.drop(monthly_cols,axis=1)\n",
    "\n",
    "    return_df = pd.concat([baseline_df, daily_features],axis=1)\n",
    "    \n",
    "    # generate signal\n",
    "    return_ = (1+daily_df.pct_change()).resample('M').prod()-1\n",
    "    return_df['Signal'] = np.where(return_>ub, 2, np.where(return_<lb, 0, 1))\n",
    "    return_df['Signal'] = return_df['Signal'].shift(1)\n",
    "\n",
    "    return return_df"
   ]
  },
  {
   "cell_type": "code",
   "execution_count": null,
   "id": "64b25086-a800-4020-9013-c9d32fe74fc8",
   "metadata": {},
   "outputs": [],
   "source": [
    "# read csv\n",
    "daily_df = pd.read_csv(\"Portfolio_data/Market_portfolio_daily.csv\",index_col=0)\n",
    "manufacture_daily = pd.read_csv('Portfolio_data/MANUFACTURING_portfolio_daily.csv',index_col=0)\n",
    "multi_portfolio_daily = pd.read_csv('Portfolio_data/MULTIPLE_portfolio_daily.csv',index_col=0)\n",
    "tech_daily = pd.read_csv('Portfolio_data/TECHNOLOGY_portfolio_daily.csv',index_col=0)\n",
    "TS_daily = pd.read_csv('Portfolio_data/TRADE & SERVICES_portfolio_daily.csv',index_col=0)"
   ]
  },
  {
   "cell_type": "code",
   "execution_count": null,
   "id": "ca08d4c3-c628-42e6-850d-c0e766a618c5",
   "metadata": {},
   "outputs": [],
   "source": [
    "# create features by calling the function\n",
    "\n",
    "create_feature(manufacture_daily).to_csv('Intermediate_data/market_baseline_v1.csv')\n",
    "create_feature(manufacture_daily).to_csv('Intermediate_data/manufacture_baseline_v1.csv')\n",
    "create_feature(multi_portfolio_daily).to_csv('Intermediate_data/multi_portfolio_baseline_v1.csv')\n",
    "create_feature(tech_daily).to_csv('Intermediate_data/tech_baseline_v1.csv')\n",
    "create_feature(TS_daily).to_csv('Intermediate_data/trade&service_baseline_v1.csv')"
   ]
  }
 ],
 "metadata": {
  "kernelspec": {
   "display_name": "Python 3 (ipykernel)",
   "language": "python",
   "name": "python3"
  },
  "language_info": {
   "codemirror_mode": {
    "name": "ipython",
    "version": 3
   },
   "file_extension": ".py",
   "mimetype": "text/x-python",
   "name": "python",
   "nbconvert_exporter": "python",
   "pygments_lexer": "ipython3",
   "version": "3.11.5"
  }
 },
 "nbformat": 4,
 "nbformat_minor": 5
}
