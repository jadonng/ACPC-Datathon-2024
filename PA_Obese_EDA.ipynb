{
 "cells": [
  {
   "cell_type": "code",
   "execution_count": 1,
   "id": "de823c4e-cd6b-4910-bd1c-d76f2a0dbb2c",
   "metadata": {},
   "outputs": [],
   "source": [
    "import pandas as pd\n",
    "import matplotlib.pyplot as plt\n",
    "import numpy as np\n",
    "import seaborn as sns"
   ]
  },
  {
   "cell_type": "code",
   "execution_count": 2,
   "id": "19a934cb-44a9-4b50-a7c7-153113554b87",
   "metadata": {},
   "outputs": [
    {
     "name": "stderr",
     "output_type": "stream",
     "text": [
      "/var/folders/fm/rwn89n9x1b94vk3rbr72zvtw0000gn/T/ipykernel_73467/3671675801.py:1: DtypeWarning: Columns (18,19,21,22) have mixed types. Specify dtype option on import or set low_memory=False.\n",
      "  PA_data = pd.read_csv('Data/Nutrition_Physical_Activity_and_Obesity_Data.csv')\n"
     ]
    }
   ],
   "source": [
    "PA_data = pd.read_csv('Data/Nutrition_Physical_Activity_and_Obesity_Data.csv')"
   ]
  },
  {
   "cell_type": "code",
   "execution_count": 8,
   "id": "51cd277f-10f0-44de-84e4-f0294fc98ce1",
   "metadata": {},
   "outputs": [
    {
     "data": {
      "text/plain": [
       "array(['Physical Activity', 'Obesity / Weight Status', 'Sugar Drinks',\n",
       "       'Fruits and Vegetables', 'Television Viewing'], dtype=object)"
      ]
     },
     "execution_count": 8,
     "metadata": {},
     "output_type": "execute_result"
    }
   ],
   "source": [
    "PA_data['Class'].unique()"
   ]
  },
  {
   "cell_type": "code",
   "execution_count": 6,
   "id": "516920a4-8cb3-4045-87c3-1840744a0417",
   "metadata": {},
   "outputs": [
    {
     "data": {
      "text/plain": [
       "YearStart                                                                  2019\n",
       "YearEnd                                                                    2019\n",
       "LocationAbbr                                                                 AK\n",
       "LocationDesc                                                             Alaska\n",
       "Datasource                              Youth Risk Behavior Surveillance System\n",
       "Class                                                         Physical Activity\n",
       "Topic                                              Physical Activity - Behavior\n",
       "Question                      Percent of students in grades 9-12 who achieve...\n",
       "Data_Value_Unit                                                             NaN\n",
       "Data_Value_Type                                                           Value\n",
       "Data_Value                                                                  9.6\n",
       "Data_Value_Alt                                                              9.6\n",
       "Data_Value_Footnote_Symbol                                                  NaN\n",
       "Data_Value_Footnote                                                         NaN\n",
       "Low_Confidence_Limit                                                        5.5\n",
       "High_Confidence_Limit                                                      16.5\n",
       "Sample_Size                                                               130.0\n",
       "Total                                                                       NaN\n",
       "Age(years)                                                                  NaN\n",
       "Education                                                                   NaN\n",
       "Gender                                                                      NaN\n",
       "Grade                                                                       NaN\n",
       "Income                                                                      NaN\n",
       "Race/Ethnicity                                                            Asian\n",
       "GeoLocation                                   (64.845079957001, -147.722059036)\n",
       "ClassID                                                                      PA\n",
       "TopicID                                                                     PA1\n",
       "QuestionID                                                                 Q048\n",
       "DataValueTypeID                                                           VALUE\n",
       "LocationID                                                                    2\n",
       "StratificationCategory1                                          Race/Ethnicity\n",
       "Stratification1                                                           Asian\n",
       "StratificationCategoryId1                                                  RACE\n",
       "StratificationID1                                                       RACEASN\n",
       "Name: 0, dtype: object"
      ]
     },
     "execution_count": 6,
     "metadata": {},
     "output_type": "execute_result"
    }
   ],
   "source": [
    "PA_data.loc[0,]"
   ]
  },
  {
   "cell_type": "code",
   "execution_count": null,
   "id": "24a839a2-974c-4b12-a579-8d333144d1a7",
   "metadata": {},
   "outputs": [],
   "source": []
  }
 ],
 "metadata": {
  "kernelspec": {
   "display_name": "Python 3 (ipykernel)",
   "language": "python",
   "name": "python3"
  },
  "language_info": {
   "codemirror_mode": {
    "name": "ipython",
    "version": 3
   },
   "file_extension": ".py",
   "mimetype": "text/x-python",
   "name": "python",
   "nbconvert_exporter": "python",
   "pygments_lexer": "ipython3",
   "version": "3.11.5"
  }
 },
 "nbformat": 4,
 "nbformat_minor": 5
}
