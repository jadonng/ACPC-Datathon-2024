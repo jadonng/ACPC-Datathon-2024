{
 "cells": [
  {
   "cell_type": "code",
   "execution_count": 2,
   "id": "aba6ea83-e3aa-452e-924b-ba547b4ab452",
   "metadata": {},
   "outputs": [],
   "source": [
    "import pandas as pd\n",
    "import numpy as np\n",
    "import matplotlib.pyplot as plt\n",
    "import seaborn as sns\n",
    "\n",
    "from sklearn.base import BaseEstimator, TransformerMixin\n",
    "from sklearn.pipeline import Pipeline"
   ]
  },
  {
   "cell_type": "code",
   "execution_count": 4,
   "id": "c78fbff3-caca-4595-bba1-9b0d9c1fdab6",
   "metadata": {},
   "outputs": [],
   "source": [
    "daily_df = pd.read_csv(\"Portfolio_data/market_portfolio_daily.csv\")\n",
    "monthly_df = pd.read_csv('Portfolio_data/market_portfolio_monthly.csv')"
   ]
  },
  {
   "cell_type": "markdown",
   "id": "1ca87326-7326-4215-b28a-c33df4dd329d",
   "metadata": {},
   "source": [
    "# Pipeline - Daily Data (To generate features for monthly dataset)"
   ]
  },
  {
   "cell_type": "code",
   "execution_count": 3,
   "id": "f46e9e8b-6ea2-46e2-bec5-68c745ae1b3c",
   "metadata": {},
   "outputs": [],
   "source": [
    "# historical volatility of different time horizons\n",
    "class hist_vol(BaseEstimator, TransformerMixin):\n",
    "    def fit(self, X, y=None):\n",
    "        return self\n",
    "    def transform(self, X):\n",
    "        # volatility of previous month\n",
    "        \n",
    "        return X\n",
    "\n",
    "class pct_change(BaseEstimator, TransformerMixin):\n",
    "    def fit(self, X, y=None):\n",
    "        return self\n",
    "    def transform(self, X):\n",
    "        \n",
    "        return X"
   ]
  },
  {
   "cell_type": "code",
   "execution_count": null,
   "id": "7af4c45c-5e70-4676-9758-270888108bf0",
   "metadata": {},
   "outputs": [],
   "source": [
    "daily_cols = daily_df.columns\n",
    "\n",
    "support_pipeline = Pipeline([\n",
    "        ('historical_volatility', hist_vol()),\n",
    "        \n",
    "])\n",
    "\n",
    "daily_features = baseline_pipeline.fit_transform(daily_df) # apply feature engineering\n",
    "daily_features = daily_features.drop(daily_cols,axis=1) # drop original raw data"
   ]
  },
  {
   "cell_type": "markdown",
   "id": "2d471d38-db62-47aa-9d3a-d0144d327f27",
   "metadata": {},
   "source": [
    "# Pipeline - Monthly Data (dataframe for prediction)"
   ]
  },
  {
   "cell_type": "code",
   "execution_count": null,
   "id": "d3590390-2cf1-4d14-b810-d5caaf248fcf",
   "metadata": {},
   "outputs": [],
   "source": [
    "class generate_class(BaseEstimator, TransformerMixin):\n",
    "    def fit(self, X, y=None):\n",
    "        return self\n",
    "    def transform(self, X):\n",
    "        X['Signal'] = (X['Close'] < X['Close'].shift(-1)).astype(int)\n",
    "        return X\n",
    "\n",
    "class monthly_pct_change(BaseEstimator, TransformerMixin):\n",
    "    def fit(self, X, y=None):\n",
    "        return self\n",
    "    def transform(self, X):\n",
    "        X['1m_pct_change'] = X['Close'].pct_change()\n",
    "        return X"
   ]
  },
  {
   "cell_type": "code",
   "execution_count": null,
   "id": "d56d30a9-42c4-4d54-8c47-582ac20fea1b",
   "metadata": {},
   "outputs": [],
   "source": [
    "monthly_df = monthly_df.columns\n",
    "\n",
    "baseline_pipeline = Pipeline([\n",
    "        ('generate_class', generate_class()),\n",
    "        \n",
    "])\n",
    "\n",
    "baseline_df = baseline_pipeline.fit_transform(monthly_df)\n",
    "baseline_df = baseline_df.drop(df_cols,axis=1)\n",
    "\n",
    "pd.concat([baseline_df, daily_features])"
   ]
  }
 ],
 "metadata": {
  "kernelspec": {
   "display_name": "Python 3 (ipykernel)",
   "language": "python",
   "name": "python3"
  },
  "language_info": {
   "codemirror_mode": {
    "name": "ipython",
    "version": 3
   },
   "file_extension": ".py",
   "mimetype": "text/x-python",
   "name": "python",
   "nbconvert_exporter": "python",
   "pygments_lexer": "ipython3",
   "version": "3.11.5"
  }
 },
 "nbformat": 4,
 "nbformat_minor": 5
}
