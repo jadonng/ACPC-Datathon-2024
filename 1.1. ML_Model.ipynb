{
 "cells": [
  {
   "cell_type": "code",
   "execution_count": null,
   "id": "4ca3e13c-6fce-4600-a064-8d0caf48a9e4",
   "metadata": {},
   "outputs": [],
   "source": [
    "# pip install evidently"
   ]
  },
  {
   "cell_type": "code",
   "execution_count": 139,
   "id": "21490a6f-5e16-4eb5-8f01-0381a28981d7",
   "metadata": {},
   "outputs": [],
   "source": [
    "import pandas as pd\n",
    "import numpy as np\n",
    "from sklearn.model_selection import train_test_split, GridSearchCV\n",
    "from sklearn.metrics import accuracy_score\n",
    "import xgboost as xgb\n",
    "import matplotlib.pyplot as plt\n",
    "\n",
    "from evidently.report import Report\n",
    "from evidently.metric_preset import DataDriftPreset, TargetDriftPreset, DataQualityPreset, ClassificationPreset"
   ]
  },
  {
   "cell_type": "code",
   "execution_count": null,
   "id": "8b77ff2c-e7e3-4e0b-a582-499859c0c690",
   "metadata": {},
   "outputs": [],
   "source": [
    "\"\"\"\n",
    "\n",
    "dataset = 'Intermediate_data/baseline_v1.csv'\n",
    "model_name = 'baseline_xgboost.pkl'\n",
    "\n",
    "dataset = 'Intermediate_data/trade&service_baseline_v1.csv'\n",
    "model_name = 'trade&service_baseline_xgboost.pkl'\n",
    "\n",
    "dataset = 'Intermediate_data/tech_baseline_v1.csv'\n",
    "model_name = 'tech_baseline_xgboost.pkl'\n",
    "\n",
    "dataset = 'Intermediate_data/multi_portfolio_baseline_v1.csv'\n",
    "model_name = 'multi_portfolio_baseline_xgboost.pkl'\n",
    "\n",
    "dataset = 'Intermediate_data/manufacture_baseline_v1.csv'\n",
    "model_name = 'manufacture_baseline_xgboost.pkl'\n",
    "\n",
    "\"\"\""
   ]
  },
  {
   "cell_type": "code",
   "execution_count": 190,
   "id": "f60bb0a8-afc6-44ef-b816-69091dcf3a4d",
   "metadata": {},
   "outputs": [],
   "source": [
    "class CONFIG:\n",
    "    dataset = 'Intermediate_data/multi_portfolio_baseline_v1.csv'\n",
    "    model_name = 'multi_portfolio_baseline_xgboost.pkl'\n",
    "    train_start = '2000-01-01'\n",
    "    train_end = '2016-12-31'\n",
    "    test_end = '2023-12-31'"
   ]
  },
  {
   "cell_type": "code",
   "execution_count": 191,
   "id": "895f8a3e-6611-4d9b-8e41-308d04321780",
   "metadata": {},
   "outputs": [],
   "source": [
    "df = pd.read_csv(CONFIG.dataset,index_col=0)"
   ]
  },
  {
   "cell_type": "code",
   "execution_count": 192,
   "id": "51290383-71d2-4373-82f9-690aefca0ebb",
   "metadata": {},
   "outputs": [],
   "source": [
    "X_train = df.loc[CONFIG.train_start:CONFIG.train_end,:].drop('Signal',axis=1)\n",
    "y_train = df.loc[CONFIG.train_start:CONFIG.train_end,'Signal']\n",
    "X_test = df.loc[CONFIG.train_end:CONFIG.test_end,:].drop('Signal',axis=1)\n",
    "y_test = df.loc[CONFIG.train_end:CONFIG.test_end,'Signal']"
   ]
  },
  {
   "cell_type": "code",
   "execution_count": 193,
   "id": "c33edafc-8ca3-496d-a150-90f3cf6c492e",
   "metadata": {},
   "outputs": [],
   "source": [
    "model = xgb.XGBClassifier(objective='multi:softmax')\n",
    "\n",
    "param_grid = {\n",
    "    'learning_rate': [0.1, 0.01, 0.001],\n",
    "    'max_depth': [3, 5],\n",
    "    'n_estimators': [100, 200, 300],\n",
    "    'gamma':[0.1,0.2,0.3],\n",
    "    'reg_lambda':[0.1, 0.2,0.3],\n",
    "}\n",
    "\n",
    "grid_search = GridSearchCV(estimator=model, \n",
    "                           param_grid=param_grid, \n",
    "                           cv=3)\n",
    "grid_search.fit(X_train, y_train)\n",
    "best_model = grid_search.best_estimator_"
   ]
  },
  {
   "cell_type": "code",
   "execution_count": null,
   "id": "bf1019c8-a558-48ba-bda0-3419e1469102",
   "metadata": {},
   "outputs": [],
   "source": []
  },
  {
   "cell_type": "code",
   "execution_count": 194,
   "id": "a73813de-24a3-49d2-b877-d038a4fda548",
   "metadata": {},
   "outputs": [
    {
     "data": {
      "text/plain": [
       "0.4588235294117647"
      ]
     },
     "execution_count": 194,
     "metadata": {},
     "output_type": "execute_result"
    }
   ],
   "source": [
    "accuracy_score(best_model.predict(X_test),y_test)"
   ]
  },
  {
   "cell_type": "code",
   "execution_count": 195,
   "id": "78106269-fe70-432e-9d3c-4f840603a9a6",
   "metadata": {},
   "outputs": [
    {
     "data": {
      "text/plain": [
       "array([2, 1, 1, 2, 1, 2, 2, 1, 1, 1, 2, 1, 1, 2, 2, 2, 0, 2, 2, 0, 2, 1,\n",
       "       1, 2, 2, 2, 2, 2, 1, 1, 0, 0, 1, 2, 1, 2, 1, 2, 2, 1, 0, 0, 0, 0,\n",
       "       0, 2, 0, 0, 2, 2, 0, 2, 2, 1, 0, 2, 1, 2, 2, 0, 2, 1, 0, 0, 0, 0,\n",
       "       0, 2, 0, 2, 0, 0, 0, 1, 2, 1, 2, 2, 0, 2, 2, 2, 2, 2, 1],\n",
       "      dtype=int32)"
      ]
     },
     "execution_count": 195,
     "metadata": {},
     "output_type": "execute_result"
    }
   ],
   "source": [
    "best_model.predict(X_test)"
   ]
  },
  {
   "cell_type": "code",
   "execution_count": 196,
   "id": "10cf10fa-b637-485e-928d-0f8c3772e5b3",
   "metadata": {},
   "outputs": [
    {
     "data": {
      "text/plain": [
       "<Axes: title={'center': 'Feature importance'}, xlabel='F score', ylabel='Features'>"
      ]
     },
     "execution_count": 196,
     "metadata": {},
     "output_type": "execute_result"
    },
    {
     "data": {
      "image/png": "[encoded data removed]",
      "text/plain": [
       "<Figure size 640x480 with 1 Axes>"
      ]
     },
     "metadata": {},
     "output_type": "display_data"
    }
   ],
   "source": [
    "xgb.plot_importance(best_model)"
   ]
  },
  {
   "cell_type": "code",
   "execution_count": 197,
   "id": "9e2c562c-2a33-4912-a0b7-ada7a9fffdcc",
   "metadata": {},
   "outputs": [],
   "source": [
    "reference = df.loc[CONFIG.train_start:CONFIG.train_end,:]\n",
    "current = df.loc[CONFIG.train_end:CONFIG.test_end,:]\n",
    "reference.rename(columns={'Signal':'target'},inplace=True)\n",
    "current.rename(columns={'Signal':'target'},inplace=True)\n",
    "reference['prediction'] = best_model.predict(X_train)\n",
    "current['prediction'] = best_model.predict(X_test)\n",
    "\n",
    "classification_report = Report(metrics=[\n",
    "    ClassificationPreset()\n",
    "])\n",
    "classification_report.run(current_data=current, reference_data=reference)\n",
    "classification_report.save_html(f'ML_Reports/{CONFIG.model_name}.html')"
   ]
  },
  {
   "cell_type": "code",
   "execution_count": 198,
   "id": "af879311-2445-479c-b2a6-a74a8352fce2",
   "metadata": {},
   "outputs": [],
   "source": [
    "import pickle\n",
    "\n",
    "model_path = f'Models/{CONFIG.model_name}'\n",
    "\n",
    "# Save the model using pickle\n",
    "with open(model_path, 'wb') as file:\n",
    "    pickle.dump(best_model, file)"
   ]
  },
  {
   "cell_type": "code",
   "execution_count": 86,
   "id": "17f33b0e-7d15-46f6-85c8-6fe718ae5912",
   "metadata": {},
   "outputs": [],
   "source": [
    "# # Load the model using pickle\n",
    "# with open(model_path, 'rb') as file:\n",
    "#     model = pickle.load(file)"
   ]
  },
  {
   "cell_type": "code",
   "execution_count": 199,
   "id": "9764268b-cef9-4863-a02b-d43e33ff2026",
   "metadata": {},
   "outputs": [],
   "source": [
    "import shap"
   ]
  },
  {
   "cell_type": "code",
   "execution_count": null,
   "id": "359037dd-ec0e-40da-8e10-3d7b85b743a1",
   "metadata": {},
   "outputs": [],
   "source": []
  }
 ],
 "metadata": {
  "kernelspec": {
   "display_name": "Python 3 (ipykernel)",
   "language": "python",
   "name": "python3"
  },
  "language_info": {
   "codemirror_mode": {
    "name": "ipython",
    "version": 3
   },
   "file_extension": ".py",
   "mimetype": "text/x-python",
   "name": "python",
   "nbconvert_exporter": "python",
   "pygments_lexer": "ipython3",
   "version": "3.11.5"
  }
 },
 "nbformat": 4,
 "nbformat_minor": 5
}
